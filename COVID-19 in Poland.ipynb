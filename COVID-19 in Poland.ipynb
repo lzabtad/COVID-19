{
 "cells": [
  {
   "cell_type": "markdown",
   "metadata": {},
   "source": [
    "# COVID-19 data in Poland"
   ]
  },
  {
   "cell_type": "markdown",
   "metadata": {},
   "source": [
    "plotting data for Poland based on https://github.com/CSSEGISandData/COVID-19/tree/master/csse_covid_19_data/csse_covid_19_time_series"
   ]
  },
  {
   "cell_type": "markdown",
   "metadata": {},
   "source": [
    "## Preparation of data\n",
    "to be run once a day"
   ]
  },
  {
   "cell_type": "code",
   "execution_count": null,
   "metadata": {},
   "outputs": [],
   "source": [
    "import pandas as pd\n",
    "import matplotlib.pyplot as plt\n",
    "import datetime\n",
    "#import timeit\n",
    "#pd.show_versions(as_json=False)\n",
    "\n",
    "def prepare_data(name, df, region):\n",
    "    p = df[df.Region == region].drop(['Region', 'Province/State', 'Lat', 'Long'], axis=1)\n",
    "    col = p.rename(index=lambda x: name).transpose()\n",
    "    col.rename(index=lambda i: datetime.datetime.strptime(i, '%m/%d/%y'), inplace = True)\n",
    "    return col\n",
    "\n",
    "def calculate_mean(df, mean_window_size):\n",
    "    return df.rolling(window=mean_window_size, center=True).mean(). \\\n",
    "            rename(columns=lambda x:\"centered mean of %s over %i days\" % (x, mean_window_size))\n",
    "\n",
    "def calulate_percentage(df, mean_window_size):\n",
    "    return df.rolling(window=mean_window_size, center=True). \\\n",
    "            apply(lambda x: x[-1]/x[:-1].mean()). \\\n",
    "            rename(columns= lambda x: \"new confirmed ratio from today against %s\" % \\\n",
    "                (\"last day\" if mean_window_size <=2\n",
    "                    else \"mean of last %i days\" % (mean_window_size-1)))\n",
    "\n",
    "c_full = pd.read_csv(\"https://github.com/CSSEGISandData/COVID-19/raw/master/csse_covid_19_data/csse_covid_19_time_series/time_series_covid19_confirmed_global.csv\", parse_dates=True). \\\n",
    "    rename(columns={'Country/Region': 'Region'})\n",
    "d_full = pd.read_csv(\"https://github.com/CSSEGISandData/COVID-19/raw/master/csse_covid_19_data/csse_covid_19_time_series/time_series_covid19_deaths_global.csv\", parse_dates=True). \\\n",
    "    rename(columns={'Country/Region': 'Region'})"
   ]
  },
  {
   "cell_type": "code",
   "execution_count": null,
   "metadata": {},
   "outputs": [],
   "source": [
    "#        0         1          2     3        4        5         6          7        8         9\n",
    "regions=[\"Poland\", \"Czechia\", \"US\", \"Spain\", \"Italy\", \"France\", \"Germany\", \"China\", \"Russia\", \"India\"]\n",
    "region=regions[0]\n",
    "\n",
    "#https://github.com/CSSEGISandData/COVID-19/tree/master/csse_covid_19_data/csse_covid_19_time_series\n",
    "c = prepare_data(\"confirmed\", c_full, region)\n",
    "d = prepare_data(\"deaths\", d_full, region)\n",
    "\n",
    "day_zero = c.ge(1).idxmax()[0]  # datetime.datetime(2020, 3, 3)\n",
    "day_hundred =  c.ge(100).idxmax()[0]  # datetime.datetime(2020, 3, 13)\n",
    "c = c[c.index >= day_zero]\n",
    "d = d[d.index >= day_zero]\n",
    "\n",
    "nc = c.rolling(window=2).apply(lambda x: x[1] - x[0]).rename(columns=lambda x: \"new \"+x)\n",
    "nd = d.rolling(window=2).apply(lambda x: x[1] - x[0]).rename(columns=lambda x: \"new \"+x)"
   ]
  },
  {
   "cell_type": "markdown",
   "metadata": {},
   "source": [
    "## Playing with data"
   ]
  },
  {
   "cell_type": "code",
   "execution_count": null,
   "metadata": {},
   "outputs": [],
   "source": [
    "ncm2 = calculate_mean(nc, 2)\n",
    "ncm3 = calculate_mean(nc, 4)\n",
    "ncm4 = calculate_mean(nc, 7)\n",
    "ncm7 = calculate_mean(nc, 14)\n",
    "ncp2 = calulate_percentage(nc, 2)\n",
    "ncp3 = calulate_percentage(nc, 4)\n",
    "ncp4 = calulate_percentage(nc, 7)\n",
    "ncp7 = calulate_percentage(nc, 14)"
   ]
  },
  {
   "cell_type": "markdown",
   "metadata": {},
   "source": [
    "## Presentation of data"
   ]
  },
  {
   "cell_type": "code",
   "execution_count": null,
   "metadata": {
    "scrolled": false
   },
   "outputs": [],
   "source": [
    "c.merge(d.merge(nc.merge(ncp2.merge(nd.merge(ncm2, left_index = True, right_index = True), left_index = True, right_index = True), left_index = True, right_index = True), left_index = True, right_index = True), left_index = True, right_index = True).tail(14)"
   ]
  },
  {
   "cell_type": "code",
   "execution_count": null,
   "metadata": {
    "scrolled": false
   },
   "outputs": [],
   "source": [
    "#TODO: Show region, start date, date where C exceeded 100\n",
    "\n",
    "fig, axes = plt.subplots(nrows=11, ncols=1, sharex=True, constrained_layout=True)\n",
    "fig.set_size_inches(10,40)\n",
    "ncp_ylim=(0,3)\n",
    "\n",
    "d.plot.bar(ax=axes[0], width=0.8, color='black')\n",
    "c.plot.bar(ax=axes[1], width=0.8)\n",
    "nc.plot.bar(ax=axes[2], width=0.8)\n",
    "ncm2.plot.bar(ax=axes[3], width=0.8, color='g')\n",
    "ncm3.plot.bar(ax=axes[4], width=0.8, color='g')\n",
    "ncm4.plot.bar(ax=axes[5], width=0.8, color='g')\n",
    "ncm7.plot.bar(ax=axes[6], width=0.8, color='g')\n",
    "ncp2.plot.bar(ax=axes[7], width=0.8, color='g', ylim=ncp_ylim)\n",
    "ncp3.plot.bar(ax=axes[8], width=0.8, color='g', ylim=ncp_ylim)\n",
    "ncp4.plot.bar(ax=axes[9], width=0.8, color='g', ylim=ncp_ylim)\n",
    "ncp7.plot.bar(ax=axes[10], width=0.8, color='g', ylim=ncp_ylim)\n",
    "for ax in axes[0:7]:\n",
    "  ax.semilogy()\n",
    "for ax in axes[7:11]:\n",
    "  ax.axhline(y = 1, linestyle=':')\n",
    "#nc.merge(ncm7, left_index = True, right_index = True).plot.bar(ax=axes[5], width=0.8)\n",
    "a = fig.suptitle(\"Data for %s, first day with 100+ cases was %s\" %(region, day_hundred))\n",
    "months = pd.date_range(d.index[0], d.index[-1], freq='MS')\n",
    "#axs[-1].get_xaxis().set_ticks(months)\n",
    "#axs[-1].get_xaxis().set_ticklabels(months)\n",
    "#axs[-1].set_xticks(months)\n",
    "#axs[-1].set_xticklabels(months)\n"
   ]
  }
 ],
 "metadata": {
  "kernelspec": {
   "display_name": "Python 3",
   "language": "python",
   "name": "python3"
  },
  "language_info": {
   "codemirror_mode": {
    "name": "ipython",
    "version": 3
   },
   "file_extension": ".py",
   "mimetype": "text/x-python",
   "name": "python",
   "nbconvert_exporter": "python",
   "pygments_lexer": "ipython3",
   "version": "3.7.6"
  }
 },
 "nbformat": 4,
 "nbformat_minor": 4
}
