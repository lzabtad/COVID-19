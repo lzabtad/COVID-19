{
 "cells": [
  {
   "cell_type": "markdown",
   "metadata": {},
   "source": [
    "# COVID-19 data in Poland"
   ]
  },
  {
   "cell_type": "markdown",
   "metadata": {},
   "source": [
    "plotting data for Poland based on https://github.com/CSSEGISandData/COVID-19/tree/master/csse_covid_19_data/csse_covid_19_time_series"
   ]
  },
  {
   "cell_type": "markdown",
   "metadata": {},
   "source": [
    "## Preparation of data\n",
    "to be run once a day"
   ]
  },
  {
   "cell_type": "code",
   "execution_count": 1,
   "metadata": {},
   "source": [
    "import pandas as pd\n",
    "import matplotlib.pyplot as plt\n",
    "import datetime\n",
    "#import timeit\n",
    "#pd.show_versions(as_json=False)\n",
    "\n",
    "def prepare_data(name, url, i=73):\n",
    "    df = pd.read_csv(url, parse_dates=True)\n",
    "    df.rename(columns={'Country/Region': 'Region'}, inplace=True)    \n",
    "    p = df[df.Region == \"Poland\"].drop(['Region', 'Province/State', 'Lat', 'Long'], axis=1)\n",
    "    col = p.rename(index=lambda x: name).transpose()\n",
    "    col.rename(index=lambda i: datetime.datetime.strptime(i, '%m/%d/%y'), inplace = True)\n",
    "    return col[col.index >= datetime.datetime(2020, 3, 3)]\n",
    "\n",
    "def calculate_mean(df, mean_window_size):\n",
    "    return df.rolling(window=mean_window_size).mean().rename(columns=lambda x:\"mean(%i) %s\" % (mean_window_size,x))\n",
    "\n",
    "#https://github.com/CSSEGISandData/COVID-19/tree/master/csse_covid_19_data/csse_covid_19_time_series\n",
    "c = prepare_data(\"confirmed\", \"https://github.com/CSSEGISandData/COVID-19/raw/master/csse_covid_19_data/csse_covid_19_time_series/time_series_19-covid-Confirmed.csv\")\n",
    "d = prepare_data(\"deaths\", \"https://github.com/CSSEGISandData/COVID-19/raw/master/csse_covid_19_data/csse_covid_19_time_series/time_series_19-covid-Deaths.csv\")\n",
    "r = prepare_data(\"recovered\", \"https://github.com/CSSEGISandData/COVID-19/raw/master/csse_covid_19_data/csse_covid_19_time_series/time_series_19-covid-Recovered.csv\")\n",
    "\n",
    "p = c.merge(d, left_index = True, right_index = True).merge(r, left_index = True, right_index = True)\n",
    "np = p.rolling(window=2).apply(lambda x: x[1] - x[0]).rename(columns=lambda x: \"new \"+x)"
   ]
  },
  {
   "cell_type": "markdown",
   "metadata": {},
   "source": [
    "## Playing with data"
   ]
  },
  {
   "cell_type": "code",
   "execution_count": 2,
   "metadata": {},
   "source": [
    "npm2 = calculate_mean(np, 2)\n",
    "npm3 = calculate_mean(np, 3)\n",
    "npm4 = calculate_mean(np, 4)\n",
    "npm7 = calculate_mean(np, 7)"
   ]
  },
  {
   "cell_type": "markdown",
   "metadata": {},
   "source": [
    "## Presentation of data"
   ]
  },
  {
   "cell_type": "code",
   "execution_count": 3,
   "metadata": {
    "scrolled": true
   },
   "source": [
    "p.merge(np.merge(npm2, left_index = True, right_index = True), left_index = True, right_index = True).tail(5)"
   ]
  },
  {
   "cell_type": "code",
   "execution_count": 5,
   "metadata": {},
   "source": [
    "fig, axes = plt.subplots(nrows=3, ncols=2, sharex=True, figsize=(15,15))\n",
    "p.plot(ax=axes[0,0])\n",
    "np.plot(ax=axes[0,1])\n",
    "npm2.plot(ax=axes[1,0])\n",
    "npm3.plot(ax=axes[1,1])\n",
    "npm4.plot(ax=axes[2,0])\n",
    "npm7.plot(ax=axes[2,1])"
   ]
  }
 ],
 "metadata": {
  "kernelspec": {
   "display_name": "Python 3",
   "language": "python",
   "name": "python3"
  },
  "language_info": {
   "codemirror_mode": {
    "name": "ipython",
    "version": 3
   },
   "file_extension": ".py",
   "mimetype": "text/x-python",
   "name": "python",
   "nbconvert_exporter": "python",
   "pygments_lexer": "ipython3",
   "version": "3.7.6"
  }
 },
 "nbformat": 4,
 "nbformat_minor": 4
}
