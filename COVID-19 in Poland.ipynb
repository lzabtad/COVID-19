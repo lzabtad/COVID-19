{
 "cells": [
  {
   "cell_type": "markdown",
   "metadata": {},
   "source": [
    "# COVID-19 data in Poland"
   ]
  },
  {
   "cell_type": "markdown",
   "metadata": {},
   "source": [
    "plotting data for Poland based on https://github.com/CSSEGISandData/COVID-19/tree/master/csse_covid_19_data/csse_covid_19_time_series"
   ]
  },
  {
   "cell_type": "markdown",
   "metadata": {},
   "source": [
    "## Preparation of data\n",
    "to be run once a day"
   ]
  },
  {
   "cell_type": "code",
   "execution_count": null,
   "metadata": {},
   "outputs": [],
   "source": [
    "import pandas as pd\n",
    "import matplotlib.pyplot as plt\n",
    "import datetime\n",
    "#import timeit\n",
    "#pd.show_versions(as_json=False)\n",
    "\n",
    "def prepare_data(name, url, i=73):\n",
    "    df = pd.read_csv(url, parse_dates=True)\n",
    "    df.rename(columns={'Country/Region': 'Region'}, inplace=True)    \n",
    "    p = df[df.Region == \"Poland\"].drop(['Region', 'Province/State', 'Lat', 'Long'], axis=1)\n",
    "    col = p.rename(index=lambda x: name).transpose()\n",
    "    col.rename(index=lambda i: datetime.datetime.strptime(i, '%m/%d/%y'), inplace = True)\n",
    "    return col[col.index >= datetime.datetime(2020, 3, 3)]\n",
    "\n",
    "def calculate_mean(df, mean_window_size):\n",
    "    return df.rolling(window=mean_window_size, center=True).mean().rename(columns=lambda x:\"mean(%i) %s\" % (mean_window_size,x))\n",
    "\n",
    "#https://github.com/CSSEGISandData/COVID-19/tree/master/csse_covid_19_data/csse_covid_19_time_series\n",
    "c = prepare_data(\"confirmed\", \"https://github.com/CSSEGISandData/COVID-19/raw/master/csse_covid_19_data/csse_covid_19_time_series/time_series_covid19_confirmed_global.csv\")\n",
    "d = prepare_data(\"deaths\", \"https://github.com/CSSEGISandData/COVID-19/raw/master/csse_covid_19_data/csse_covid_19_time_series/time_series_covid19_deaths_global.csv\")\n",
    "\n",
    "nc = c.rolling(window=2).apply(lambda x: x[1] - x[0]).rename(columns=lambda x: \"new \"+x)\n",
    "nd = d.rolling(window=2).apply(lambda x: x[1] - x[0]).rename(columns=lambda x: \"new \"+x)"
   ]
  },
  {
   "cell_type": "markdown",
   "metadata": {},
   "source": [
    "## Playing with data"
   ]
  },
  {
   "cell_type": "code",
   "execution_count": null,
   "metadata": {},
   "outputs": [],
   "source": [
    "def calulate_percentage(df, mean_window_size):\n",
    "    return df.rolling(window=mean_window_size, center=True).apply(lambda x: x[-1]/x[:-1].mean()).rename(columns=lambda x: \"percent (%s)\" % (mean_window_size))\n",
    "\n",
    "\n",
    "\n",
    "ncm2 = calculate_mean(nc, 2)\n",
    "ncm3 = calculate_mean(nc, 3)\n",
    "ncm4 = calculate_mean(nc, 4)\n",
    "ncm7 = calculate_mean(nc, 7)\n",
    "ncp2 = calulate_percentage(nc, 2)\n",
    "ncp3 = calulate_percentage(nc, 3)\n",
    "ncp4 = calulate_percentage(nc, 4)\n",
    "ncp7 = calulate_percentage(nc, 7)"
   ]
  },
  {
   "cell_type": "markdown",
   "metadata": {},
   "source": [
    "## Presentation of data"
   ]
  },
  {
   "cell_type": "code",
   "execution_count": null,
   "metadata": {
    "scrolled": true
   },
   "outputs": [],
   "source": [
    "c.merge(d.merge(nc.merge(ncp3.merge(nd.merge(ncm2, left_index = True, right_index = True), left_index = True, right_index = True), left_index = True, right_index = True), left_index = True, right_index = True), left_index = True, right_index = True).tail(5)"
   ]
  },
  {
   "cell_type": "code",
   "execution_count": null,
   "metadata": {
    "scrolled": false
   },
   "outputs": [],
   "source": [
    "fig, axes = plt.subplots(nrows=11, ncols=1, sharex=True)\n",
    "fig.set_size_inches(10,40)\n",
    "d.plot.bar(ax=axes[0], width=0.8, color='black')\n",
    "c.plot.bar(ax=axes[1], width=0.8)\n",
    "nc.plot.bar(ax=axes[2], width=0.8)\n",
    "ncm2.plot.bar(ax=axes[3], width=0.8, color='g')\n",
    "ncm3.plot.bar(ax=axes[4], width=0.8, color='g')\n",
    "ncm4.plot.bar(ax=axes[5], width=0.8, color='g')\n",
    "ncm7.plot.bar(ax=axes[6], width=0.8, color='g')\n",
    "ncp2.plot.bar(ax=axes[7], width=0.8, color='g')\n",
    "ncp3.plot.bar(ax=axes[8], width=0.8, color='g')\n",
    "ncp4.plot.bar(ax=axes[9], width=0.8, color='g')\n",
    "ncp7.plot.bar(ax=axes[10], width=0.8, color='g')\n",
    "#nc.merge(ncm7, left_index = True, right_index = True).plot.bar(ax=axes[5], width=0.8)"
   ]
  }
 ],
 "metadata": {
  "kernelspec": {
   "display_name": "Python 3",
   "language": "python",
   "name": "python3"
  },
  "language_info": {
   "codemirror_mode": {
    "name": "ipython",
    "version": 3
   },
   "file_extension": ".py",
   "mimetype": "text/x-python",
   "name": "python",
   "nbconvert_exporter": "python",
   "pygments_lexer": "ipython3",
   "version": "3.7.6"
  }
 },
 "nbformat": 4,
 "nbformat_minor": 4
}
